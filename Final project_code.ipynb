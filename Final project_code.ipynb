{
 "cells": [
  {
   "cell_type": "code",
   "execution_count": 135,
   "id": "d08dc256",
   "metadata": {},
   "outputs": [],
   "source": [
    "# math \n",
    "import numpy as np\n",
    "from sklearn.ensemble import RandomForestClassifier\n",
    "# dataframes\n",
    "import pandas as pd\n",
    "import statsmodels.api as sm\n",
    "# plotting\n",
    "import matplotlib.pyplot as plt\n",
    "import seaborn as sns\n",
    "import random as rand\n",
    "from sklearn.model_selection import cross_val_score\n",
    "from sklearn.metrics import accuracy_score, confusion_matrix, classification_report\n",
    "from sklearn.tree import DecisionTreeClassifier\n",
    "from sklearn import tree\n",
    "from sklearn.tree import plot_tree\n",
    "from mlxtend.plotting import plot_decision_regions\n",
    "from mlxtend.feature_selection import SequentialFeatureSelector as sfs\n",
    "from sklearn.linear_model import LogisticRegression"
   ]
  },
  {
   "cell_type": "code",
   "execution_count": 136,
   "id": "f5c79eab",
   "metadata": {},
   "outputs": [],
   "source": [
    "data = pd.read_csv('compas-scores-two-years.csv')"
   ]
  },
  {
   "cell_type": "code",
   "execution_count": 137,
   "id": "91f95636",
   "metadata": {},
   "outputs": [
    {
     "data": {
      "text/plain": [
       "Index(['id', 'name', 'first', 'last', 'compas_screening_date', 'sex', 'dob',\n",
       "       'age', 'age_cat', 'race', 'juv_fel_count', 'decile_score',\n",
       "       'juv_misd_count', 'juv_other_count', 'priors_count',\n",
       "       'days_b_screening_arrest', 'c_jail_in', 'c_jail_out', 'c_case_number',\n",
       "       'c_offense_date', 'c_arrest_date', 'c_days_from_compas',\n",
       "       'c_charge_degree', 'c_charge_desc', 'is_recid', 'r_case_number',\n",
       "       'r_charge_degree', 'r_days_from_arrest', 'r_offense_date',\n",
       "       'r_charge_desc', 'r_jail_in', 'r_jail_out', 'violent_recid',\n",
       "       'is_violent_recid', 'vr_case_number', 'vr_charge_degree',\n",
       "       'vr_offense_date', 'vr_charge_desc', 'type_of_assessment',\n",
       "       'decile_score.1', 'score_text', 'screening_date',\n",
       "       'v_type_of_assessment', 'v_decile_score', 'v_score_text',\n",
       "       'v_screening_date', 'in_custody', 'out_custody', 'priors_count.1',\n",
       "       'start', 'end', 'event', 'two_year_recid'],\n",
       "      dtype='object')"
      ]
     },
     "execution_count": 137,
     "metadata": {},
     "output_type": "execute_result"
    }
   ],
   "source": [
    "data.columns"
   ]
  },
  {
   "cell_type": "code",
   "execution_count": 138,
   "id": "de8cb818",
   "metadata": {},
   "outputs": [
    {
     "data": {
      "text/plain": [
       "7214"
      ]
     },
     "execution_count": 138,
     "metadata": {},
     "output_type": "execute_result"
    }
   ],
   "source": [
    "len(data)"
   ]
  },
  {
   "cell_type": "code",
   "execution_count": 139,
   "id": "7bc60214",
   "metadata": {},
   "outputs": [
    {
     "data": {
      "text/plain": [
       "7214"
      ]
     },
     "execution_count": 139,
     "metadata": {},
     "output_type": "execute_result"
    }
   ],
   "source": [
    "len(data.drop_duplicates())"
   ]
  },
  {
   "cell_type": "code",
   "execution_count": 140,
   "id": "ff3db806",
   "metadata": {},
   "outputs": [
    {
     "data": {
      "text/plain": [
       "id                            0\n",
       "name                          0\n",
       "first                         0\n",
       "last                          0\n",
       "compas_screening_date         0\n",
       "sex                           0\n",
       "dob                           0\n",
       "age                           0\n",
       "age_cat                       0\n",
       "race                          0\n",
       "juv_fel_count                 0\n",
       "decile_score                  0\n",
       "juv_misd_count                0\n",
       "juv_other_count               0\n",
       "priors_count                  0\n",
       "days_b_screening_arrest     307\n",
       "c_jail_in                   307\n",
       "c_jail_out                  307\n",
       "c_case_number                22\n",
       "c_offense_date             1159\n",
       "c_arrest_date              6077\n",
       "c_days_from_compas           22\n",
       "c_charge_degree               0\n",
       "c_charge_desc                29\n",
       "is_recid                      0\n",
       "r_case_number              3743\n",
       "r_charge_degree            3743\n",
       "r_days_from_arrest         4898\n",
       "r_offense_date             3743\n",
       "r_charge_desc              3801\n",
       "r_jail_in                  4898\n",
       "r_jail_out                 4898\n",
       "violent_recid              7214\n",
       "is_violent_recid              0\n",
       "vr_case_number             6395\n",
       "vr_charge_degree           6395\n",
       "vr_offense_date            6395\n",
       "vr_charge_desc             6395\n",
       "type_of_assessment            0\n",
       "decile_score.1                0\n",
       "score_text                    0\n",
       "screening_date                0\n",
       "v_type_of_assessment          0\n",
       "v_decile_score                0\n",
       "v_score_text                  0\n",
       "v_screening_date              0\n",
       "in_custody                  236\n",
       "out_custody                 236\n",
       "priors_count.1                0\n",
       "start                         0\n",
       "end                           0\n",
       "event                         0\n",
       "two_year_recid                0\n",
       "dtype: int64"
      ]
     },
     "execution_count": 140,
     "metadata": {},
     "output_type": "execute_result"
    }
   ],
   "source": [
    "data.isna().sum()"
   ]
  },
  {
   "cell_type": "markdown",
   "id": "535fc94b",
   "metadata": {},
   "source": [
    "# data cleaning and preprocessing "
   ]
  },
  {
   "cell_type": "code",
   "execution_count": 141,
   "id": "46610185",
   "metadata": {},
   "outputs": [
    {
     "data": {
      "text/plain": [
       "array(['Risk of Violence'], dtype=object)"
      ]
     },
     "execution_count": 141,
     "metadata": {},
     "output_type": "execute_result"
    }
   ],
   "source": [
    "# only one distinct value, drop\n",
    "data.v_type_of_assessment.unique()\n"
   ]
  },
  {
   "cell_type": "code",
   "execution_count": 142,
   "id": "1362b7d9",
   "metadata": {},
   "outputs": [
    {
     "data": {
      "text/plain": [
       "array(['Low', 'Medium', 'High'], dtype=object)"
      ]
     },
     "execution_count": 142,
     "metadata": {},
     "output_type": "execute_result"
    }
   ],
   "source": [
    "# choose one or another\n",
    "data.score_text.unique()\n",
    "data.v_score_text.unique()"
   ]
  },
  {
   "cell_type": "code",
   "execution_count": 143,
   "id": "7285b0db",
   "metadata": {},
   "outputs": [
    {
     "data": {
      "text/plain": [
       "array([ 0,  2,  1,  8,  4,  3,  9, 20,  6,  5, 10], dtype=int64)"
      ]
     },
     "execution_count": 143,
     "metadata": {},
     "output_type": "execute_result"
    }
   ],
   "source": [
    "# could group but perform worse if grouped\n",
    "data.juv_fel_count.unique()"
   ]
  },
  {
   "cell_type": "code",
   "execution_count": 144,
   "id": "853625bc",
   "metadata": {},
   "outputs": [],
   "source": [
    "# transform \n",
    "data['compas_screening_date'] = pd.to_datetime(data['compas_screening_date'])"
   ]
  },
  {
   "cell_type": "code",
   "execution_count": 145,
   "id": "64cf8feb",
   "metadata": {},
   "outputs": [],
   "source": [
    "# duplicate columns\n",
    "data=data.drop(columns=['priors_count.1'])"
   ]
  },
  {
   "cell_type": "code",
   "execution_count": 146,
   "id": "63123adc",
   "metadata": {},
   "outputs": [],
   "source": [
    "# days between screening and arrest need to be between -30 and 30 for best accuracy of COMPAS Scores\n",
    "data=data.loc[(data['days_b_screening_arrest']<=30) & (data['days_b_screening_arrest']>=-30)]"
   ]
  },
  {
   "cell_type": "markdown",
   "id": "4948dfc9",
   "metadata": {},
   "source": [
    "# Data visualization"
   ]
  },
  {
   "cell_type": "code",
   "execution_count": 147,
   "id": "8920c61b",
   "metadata": {},
   "outputs": [
    {
     "data": {
      "text/plain": [
       "<AxesSubplot:xlabel='age', ylabel='Count'>"
      ]
     },
     "execution_count": 147,
     "metadata": {},
     "output_type": "execute_result"
    },
    {
     "data": {
      "image/png": "[encoded data removed]",
      "text/plain": [
       "<Figure size 1080x576 with 1 Axes>"
      ]
     },
     "metadata": {},
     "output_type": "display_data"
    }
   ],
   "source": [
    "sns.set(rc = {'figure.figsize':(15,8)})\n",
    "sns.histplot(data.age,kde=True)"
   ]
  },
  {
   "cell_type": "code",
   "execution_count": 148,
   "id": "130dd5d8",
   "metadata": {},
   "outputs": [
    {
     "data": {
      "text/plain": [
       "<seaborn.axisgrid.FacetGrid at 0x244e0109ac0>"
      ]
     },
     "execution_count": 148,
     "metadata": {},
     "output_type": "execute_result"
    },
    {
     "data": {
      "image/png": "[encoded data removed]",
      "text/plain": [
       "<Figure size 360x360 with 1 Axes>"
      ]
     },
     "metadata": {},
     "output_type": "display_data"
    }
   ],
   "source": [
    "sns.displot(data.sex)"
   ]
  },
  {
   "cell_type": "code",
   "execution_count": 149,
   "id": "3825912d",
   "metadata": {},
   "outputs": [
    {
     "data": {
      "text/plain": [
       "<AxesSubplot:xlabel='compas_screening_date', ylabel='Count'>"
      ]
     },
     "execution_count": 149,
     "metadata": {},
     "output_type": "execute_result"
    },
    {
     "data": {
      "image/png": "[encoded data removed]",
      "text/plain": [
       "<Figure size 1080x576 with 1 Axes>"
      ]
     },
     "metadata": {},
     "output_type": "display_data"
    }
   ],
   "source": [
    "sns.histplot(data.compas_screening_date, kde=True)\n",
    "# For some reason the compas screening for 2013-07 and after 2014-04 are fewer, we will discover the reason in the future."
   ]
  },
  {
   "cell_type": "code",
   "execution_count": 150,
   "id": "cf96113a",
   "metadata": {},
   "outputs": [
    {
     "data": {
      "text/plain": [
       "[Text(0, 0, 'Other'),\n",
       " Text(1, 0, 'African-American'),\n",
       " Text(2, 0, 'Caucasian'),\n",
       " Text(3, 0, 'Hispanic'),\n",
       " Text(4, 0, 'Asian'),\n",
       " Text(5, 0, 'Native American')]"
      ]
     },
     "execution_count": 150,
     "metadata": {},
     "output_type": "execute_result"
    },
    {
     "data": {
      "image/png": "[encoded data removed]",
      "text/plain": [
       "<Figure size 1080x576 with 1 Axes>"
      ]
     },
     "metadata": {},
     "output_type": "display_data"
    }
   ],
   "source": [
    "ax = sns.countplot(x=\"race\", data=data)\n",
    "ax.set_xticklabels(ax.get_xticklabels(), rotation=40, ha=\"right\")"
   ]
  },
  {
   "cell_type": "code",
   "execution_count": 153,
   "id": "1cc0cc30",
   "metadata": {},
   "outputs": [
    {
     "data": {
      "text/plain": [
       "<AxesSubplot:xlabel='is_recid', ylabel='Count'>"
      ]
     },
     "execution_count": 153,
     "metadata": {},
     "output_type": "execute_result"
    },
    {
     "data": {
      "image/png": "[encoded data removed]",
      "text/plain": [
       "<Figure size 1080x576 with 1 Axes>"
      ]
     },
     "metadata": {},
     "output_type": "display_data"
    }
   ],
   "source": [
    "sns.histplot(data.is_recid)"
   ]
  },
  {
   "cell_type": "code",
   "execution_count": 159,
   "id": "95bc00c9",
   "metadata": {},
   "outputs": [
    {
     "data": {
      "text/plain": [
       "<AxesSubplot:xlabel='priors_count', ylabel='Count'>"
      ]
     },
     "execution_count": 159,
     "metadata": {},
     "output_type": "execute_result"
    },
    {
     "data": {
      "image/png": "[encoded data removed]",
      "text/plain": [
       "<Figure size 1080x576 with 1 Axes>"
      ]
     },
     "metadata": {},
     "output_type": "display_data"
    }
   ],
   "source": [
    "sns.histplot(data.priors_count, kde=True)"
   ]
  },
  {
   "cell_type": "code",
   "execution_count": 160,
   "id": "50ce0480",
   "metadata": {},
   "outputs": [
    {
     "data": {
      "text/plain": [
       "<AxesSubplot:xlabel='score_text', ylabel='Count'>"
      ]
     },
     "execution_count": 160,
     "metadata": {},
     "output_type": "execute_result"
    },
    {
     "data": {
      "image/png": "[encoded data removed]",
      "text/plain": [
       "<Figure size 1080x576 with 1 Axes>"
      ]
     },
     "metadata": {},
     "output_type": "display_data"
    }
   ],
   "source": [
    "sns.histplot(data.score_text)"
   ]
  },
  {
   "cell_type": "code",
   "execution_count": 161,
   "id": "3f8f4e21",
   "metadata": {},
   "outputs": [
    {
     "data": {
      "image/png": "[encoded data removed]",
      "text/plain": [
       "<Figure size 1080x576 with 2 Axes>"
      ]
     },
     "metadata": {},
     "output_type": "display_data"
    }
   ],
   "source": [
    "sns.heatmap(data.corr());"
   ]
  },
  {
   "cell_type": "markdown",
   "id": "c5829f9f",
   "metadata": {},
   "source": [
    "# Feature selection and feature engineering"
   ]
  },
  {
   "cell_type": "code",
   "execution_count": 162,
   "id": "07f019f0",
   "metadata": {},
   "outputs": [],
   "source": [
    "from warnings import filterwarnings\n",
    "filterwarnings('ignore')"
   ]
  },
  {
   "cell_type": "code",
   "execution_count": 163,
   "id": "f424324b-907c-40ff-b410-614eb7ef0578",
   "metadata": {},
   "outputs": [],
   "source": [
    "lreg = LogisticRegression()"
   ]
  },
  {
   "cell_type": "code",
   "execution_count": 164,
   "id": "79b6c900-b099-4c7e-85b8-25de18412718",
   "metadata": {},
   "outputs": [],
   "source": [
    "sfs1 = sfs(lreg, k_features=15, forward=False, verbose=0, scoring='accuracy')\n",
    "sfs1 = sfs1.fit(data.loc[:, data.columns != 'two_year_recid'], data['two_year_recid'])"
   ]
  },
  {
   "cell_type": "code",
   "execution_count": 165,
   "id": "73b0a5d8",
   "metadata": {},
   "outputs": [
    {
     "name": "stdout",
     "output_type": "stream",
     "text": [
      "['id', 'name', 'first', 'last', 'compas_screening_date', 'sex', 'dob', 'age', 'age_cat', 'race', 'juv_fel_count', 'decile_score', 'juv_misd_count', 'juv_other_count', 'priors_count']\n"
     ]
    }
   ],
   "source": [
    "feat_names = list(sfs1.k_feature_names_)\n",
    "print(feat_names)"
   ]
  },
  {
   "cell_type": "code",
   "execution_count": 166,
   "id": "87d92dde",
   "metadata": {},
   "outputs": [],
   "source": [
    "\n",
    "features = ['sex','age_cat','race','decile_score','priors_count','c_charge_degree','is_violent_recid','score_text']\n",
    "features2=['c_charge_degree', 'race', 'age_cat', 'score_text', 'sex', \n",
    "                    'days_b_screening_arrest', 'decile_score','priors_count']\n",
    "labels = ['two_year_recid']\n",
    "df = data [features + labels]\n",
    "df2= data[features2 + labels]\n"
   ]
  },
  {
   "cell_type": "code",
   "execution_count": 167,
   "id": "3af6fc03",
   "metadata": {},
   "outputs": [],
   "source": [
    "df = pd.get_dummies(df)   # hone-hot encoding\n",
    "df2 = pd.get_dummies(df2)"
   ]
  },
  {
   "cell_type": "code",
   "execution_count": 168,
   "id": "667aaa4a",
   "metadata": {},
   "outputs": [],
   "source": [
    "Y=df['two_year_recid']\n",
    "X=df.loc[:, df.columns != 'two_year_recid']"
   ]
  },
  {
   "cell_type": "code",
   "execution_count": 169,
   "id": "e5ce54c5",
   "metadata": {},
   "outputs": [
    {
     "data": {
      "text/plain": [
       "1     1286\n",
       "2      822\n",
       "4      666\n",
       "3      647\n",
       "5      582\n",
       "6      529\n",
       "7      496\n",
       "8      420\n",
       "9      420\n",
       "10     304\n",
       "Name: decile_score, dtype: int64"
      ]
     },
     "execution_count": 169,
     "metadata": {},
     "output_type": "execute_result"
    }
   ],
   "source": [
    "X.decile_score.value_counts()"
   ]
  },
  {
   "cell_type": "code",
   "execution_count": 170,
   "id": "a42de042",
   "metadata": {},
   "outputs": [],
   "source": [
    "#Train and test split\n",
    "import random\n",
    "random.seed(101)\n",
    "df = df.sample(frac = 1, random_state = 42)\n",
    "\n",
    "X_train, X_val, X_test = np.split(X,[int(.5*len(df)),int(.75*len(df))])\n",
    "Y_train, Y_val, Y_test = np.split(Y,[int(.5*len(df)),int(.75*len(df))])"
   ]
  },
  {
   "cell_type": "code",
   "execution_count": 171,
   "id": "6ceaaf32-ad8b-4e0a-aa1b-f477031edbd3",
   "metadata": {},
   "outputs": [
    {
     "data": {
      "text/html": [
       "<div>\n",
       "<style scoped>\n",
       "    .dataframe tbody tr th:only-of-type {\n",
       "        vertical-align: middle;\n",
       "    }\n",
       "\n",
       "    .dataframe tbody tr th {\n",
       "        vertical-align: top;\n",
       "    }\n",
       "\n",
       "    .dataframe thead th {\n",
       "        text-align: right;\n",
       "    }\n",
       "</style>\n",
       "<table border=\"1\" class=\"dataframe\">\n",
       "  <thead>\n",
       "    <tr style=\"text-align: right;\">\n",
       "      <th></th>\n",
       "      <th>decile_score</th>\n",
       "      <th>priors_count</th>\n",
       "      <th>is_violent_recid</th>\n",
       "      <th>sex_Female</th>\n",
       "      <th>sex_Male</th>\n",
       "      <th>age_cat_25 - 45</th>\n",
       "      <th>age_cat_Greater than 45</th>\n",
       "      <th>age_cat_Less than 25</th>\n",
       "      <th>race_African-American</th>\n",
       "      <th>race_Asian</th>\n",
       "      <th>race_Caucasian</th>\n",
       "      <th>race_Hispanic</th>\n",
       "      <th>race_Native American</th>\n",
       "      <th>race_Other</th>\n",
       "      <th>c_charge_degree_F</th>\n",
       "      <th>c_charge_degree_M</th>\n",
       "      <th>score_text_High</th>\n",
       "      <th>score_text_Low</th>\n",
       "      <th>score_text_Medium</th>\n",
       "    </tr>\n",
       "  </thead>\n",
       "  <tbody>\n",
       "    <tr>\n",
       "      <th>0</th>\n",
       "      <td>1</td>\n",
       "      <td>0</td>\n",
       "      <td>0</td>\n",
       "      <td>0</td>\n",
       "      <td>1</td>\n",
       "      <td>0</td>\n",
       "      <td>1</td>\n",
       "      <td>0</td>\n",
       "      <td>0</td>\n",
       "      <td>0</td>\n",
       "      <td>0</td>\n",
       "      <td>0</td>\n",
       "      <td>0</td>\n",
       "      <td>1</td>\n",
       "      <td>1</td>\n",
       "      <td>0</td>\n",
       "      <td>0</td>\n",
       "      <td>1</td>\n",
       "      <td>0</td>\n",
       "    </tr>\n",
       "    <tr>\n",
       "      <th>1</th>\n",
       "      <td>3</td>\n",
       "      <td>0</td>\n",
       "      <td>1</td>\n",
       "      <td>0</td>\n",
       "      <td>1</td>\n",
       "      <td>1</td>\n",
       "      <td>0</td>\n",
       "      <td>0</td>\n",
       "      <td>1</td>\n",
       "      <td>0</td>\n",
       "      <td>0</td>\n",
       "      <td>0</td>\n",
       "      <td>0</td>\n",
       "      <td>0</td>\n",
       "      <td>1</td>\n",
       "      <td>0</td>\n",
       "      <td>0</td>\n",
       "      <td>1</td>\n",
       "      <td>0</td>\n",
       "    </tr>\n",
       "    <tr>\n",
       "      <th>2</th>\n",
       "      <td>4</td>\n",
       "      <td>4</td>\n",
       "      <td>0</td>\n",
       "      <td>0</td>\n",
       "      <td>1</td>\n",
       "      <td>0</td>\n",
       "      <td>0</td>\n",
       "      <td>1</td>\n",
       "      <td>1</td>\n",
       "      <td>0</td>\n",
       "      <td>0</td>\n",
       "      <td>0</td>\n",
       "      <td>0</td>\n",
       "      <td>0</td>\n",
       "      <td>1</td>\n",
       "      <td>0</td>\n",
       "      <td>0</td>\n",
       "      <td>1</td>\n",
       "      <td>0</td>\n",
       "    </tr>\n",
       "    <tr>\n",
       "      <th>5</th>\n",
       "      <td>1</td>\n",
       "      <td>0</td>\n",
       "      <td>0</td>\n",
       "      <td>0</td>\n",
       "      <td>1</td>\n",
       "      <td>1</td>\n",
       "      <td>0</td>\n",
       "      <td>0</td>\n",
       "      <td>0</td>\n",
       "      <td>0</td>\n",
       "      <td>0</td>\n",
       "      <td>0</td>\n",
       "      <td>0</td>\n",
       "      <td>1</td>\n",
       "      <td>0</td>\n",
       "      <td>1</td>\n",
       "      <td>0</td>\n",
       "      <td>1</td>\n",
       "      <td>0</td>\n",
       "    </tr>\n",
       "    <tr>\n",
       "      <th>6</th>\n",
       "      <td>6</td>\n",
       "      <td>14</td>\n",
       "      <td>0</td>\n",
       "      <td>0</td>\n",
       "      <td>1</td>\n",
       "      <td>1</td>\n",
       "      <td>0</td>\n",
       "      <td>0</td>\n",
       "      <td>0</td>\n",
       "      <td>0</td>\n",
       "      <td>1</td>\n",
       "      <td>0</td>\n",
       "      <td>0</td>\n",
       "      <td>0</td>\n",
       "      <td>1</td>\n",
       "      <td>0</td>\n",
       "      <td>0</td>\n",
       "      <td>0</td>\n",
       "      <td>1</td>\n",
       "    </tr>\n",
       "    <tr>\n",
       "      <th>...</th>\n",
       "      <td>...</td>\n",
       "      <td>...</td>\n",
       "      <td>...</td>\n",
       "      <td>...</td>\n",
       "      <td>...</td>\n",
       "      <td>...</td>\n",
       "      <td>...</td>\n",
       "      <td>...</td>\n",
       "      <td>...</td>\n",
       "      <td>...</td>\n",
       "      <td>...</td>\n",
       "      <td>...</td>\n",
       "      <td>...</td>\n",
       "      <td>...</td>\n",
       "      <td>...</td>\n",
       "      <td>...</td>\n",
       "      <td>...</td>\n",
       "      <td>...</td>\n",
       "      <td>...</td>\n",
       "    </tr>\n",
       "    <tr>\n",
       "      <th>3610</th>\n",
       "      <td>1</td>\n",
       "      <td>1</td>\n",
       "      <td>0</td>\n",
       "      <td>0</td>\n",
       "      <td>1</td>\n",
       "      <td>0</td>\n",
       "      <td>1</td>\n",
       "      <td>0</td>\n",
       "      <td>1</td>\n",
       "      <td>0</td>\n",
       "      <td>0</td>\n",
       "      <td>0</td>\n",
       "      <td>0</td>\n",
       "      <td>0</td>\n",
       "      <td>0</td>\n",
       "      <td>1</td>\n",
       "      <td>0</td>\n",
       "      <td>1</td>\n",
       "      <td>0</td>\n",
       "    </tr>\n",
       "    <tr>\n",
       "      <th>3611</th>\n",
       "      <td>4</td>\n",
       "      <td>0</td>\n",
       "      <td>0</td>\n",
       "      <td>0</td>\n",
       "      <td>1</td>\n",
       "      <td>1</td>\n",
       "      <td>0</td>\n",
       "      <td>0</td>\n",
       "      <td>0</td>\n",
       "      <td>0</td>\n",
       "      <td>0</td>\n",
       "      <td>0</td>\n",
       "      <td>0</td>\n",
       "      <td>1</td>\n",
       "      <td>1</td>\n",
       "      <td>0</td>\n",
       "      <td>0</td>\n",
       "      <td>1</td>\n",
       "      <td>0</td>\n",
       "    </tr>\n",
       "    <tr>\n",
       "      <th>3612</th>\n",
       "      <td>1</td>\n",
       "      <td>1</td>\n",
       "      <td>0</td>\n",
       "      <td>0</td>\n",
       "      <td>1</td>\n",
       "      <td>1</td>\n",
       "      <td>0</td>\n",
       "      <td>0</td>\n",
       "      <td>0</td>\n",
       "      <td>0</td>\n",
       "      <td>1</td>\n",
       "      <td>0</td>\n",
       "      <td>0</td>\n",
       "      <td>0</td>\n",
       "      <td>0</td>\n",
       "      <td>1</td>\n",
       "      <td>0</td>\n",
       "      <td>1</td>\n",
       "      <td>0</td>\n",
       "    </tr>\n",
       "    <tr>\n",
       "      <th>3613</th>\n",
       "      <td>1</td>\n",
       "      <td>0</td>\n",
       "      <td>0</td>\n",
       "      <td>0</td>\n",
       "      <td>1</td>\n",
       "      <td>1</td>\n",
       "      <td>0</td>\n",
       "      <td>0</td>\n",
       "      <td>1</td>\n",
       "      <td>0</td>\n",
       "      <td>0</td>\n",
       "      <td>0</td>\n",
       "      <td>0</td>\n",
       "      <td>0</td>\n",
       "      <td>0</td>\n",
       "      <td>1</td>\n",
       "      <td>0</td>\n",
       "      <td>1</td>\n",
       "      <td>0</td>\n",
       "    </tr>\n",
       "    <tr>\n",
       "      <th>3614</th>\n",
       "      <td>1</td>\n",
       "      <td>1</td>\n",
       "      <td>0</td>\n",
       "      <td>0</td>\n",
       "      <td>1</td>\n",
       "      <td>0</td>\n",
       "      <td>1</td>\n",
       "      <td>0</td>\n",
       "      <td>0</td>\n",
       "      <td>0</td>\n",
       "      <td>1</td>\n",
       "      <td>0</td>\n",
       "      <td>0</td>\n",
       "      <td>0</td>\n",
       "      <td>1</td>\n",
       "      <td>0</td>\n",
       "      <td>0</td>\n",
       "      <td>1</td>\n",
       "      <td>0</td>\n",
       "    </tr>\n",
       "  </tbody>\n",
       "</table>\n",
       "<p>3086 rows × 19 columns</p>\n",
       "</div>"
      ],
      "text/plain": [
       "      decile_score  priors_count  is_violent_recid  sex_Female  sex_Male  \\\n",
       "0                1             0                 0           0         1   \n",
       "1                3             0                 1           0         1   \n",
       "2                4             4                 0           0         1   \n",
       "5                1             0                 0           0         1   \n",
       "6                6            14                 0           0         1   \n",
       "...            ...           ...               ...         ...       ...   \n",
       "3610             1             1                 0           0         1   \n",
       "3611             4             0                 0           0         1   \n",
       "3612             1             1                 0           0         1   \n",
       "3613             1             0                 0           0         1   \n",
       "3614             1             1                 0           0         1   \n",
       "\n",
       "      age_cat_25 - 45  age_cat_Greater than 45  age_cat_Less than 25  \\\n",
       "0                   0                        1                     0   \n",
       "1                   1                        0                     0   \n",
       "2                   0                        0                     1   \n",
       "5                   1                        0                     0   \n",
       "6                   1                        0                     0   \n",
       "...               ...                      ...                   ...   \n",
       "3610                0                        1                     0   \n",
       "3611                1                        0                     0   \n",
       "3612                1                        0                     0   \n",
       "3613                1                        0                     0   \n",
       "3614                0                        1                     0   \n",
       "\n",
       "      race_African-American  race_Asian  race_Caucasian  race_Hispanic  \\\n",
       "0                         0           0               0              0   \n",
       "1                         1           0               0              0   \n",
       "2                         1           0               0              0   \n",
       "5                         0           0               0              0   \n",
       "6                         0           0               1              0   \n",
       "...                     ...         ...             ...            ...   \n",
       "3610                      1           0               0              0   \n",
       "3611                      0           0               0              0   \n",
       "3612                      0           0               1              0   \n",
       "3613                      1           0               0              0   \n",
       "3614                      0           0               1              0   \n",
       "\n",
       "      race_Native American  race_Other  c_charge_degree_F  c_charge_degree_M  \\\n",
       "0                        0           1                  1                  0   \n",
       "1                        0           0                  1                  0   \n",
       "2                        0           0                  1                  0   \n",
       "5                        0           1                  0                  1   \n",
       "6                        0           0                  1                  0   \n",
       "...                    ...         ...                ...                ...   \n",
       "3610                     0           0                  0                  1   \n",
       "3611                     0           1                  1                  0   \n",
       "3612                     0           0                  0                  1   \n",
       "3613                     0           0                  0                  1   \n",
       "3614                     0           0                  1                  0   \n",
       "\n",
       "      score_text_High  score_text_Low  score_text_Medium  \n",
       "0                   0               1                  0  \n",
       "1                   0               1                  0  \n",
       "2                   0               1                  0  \n",
       "5                   0               1                  0  \n",
       "6                   0               0                  1  \n",
       "...               ...             ...                ...  \n",
       "3610                0               1                  0  \n",
       "3611                0               1                  0  \n",
       "3612                0               1                  0  \n",
       "3613                0               1                  0  \n",
       "3614                0               1                  0  \n",
       "\n",
       "[3086 rows x 19 columns]"
      ]
     },
     "execution_count": 171,
     "metadata": {},
     "output_type": "execute_result"
    }
   ],
   "source": [
    "X_train"
   ]
  },
  {
   "cell_type": "markdown",
   "id": "69a57f7a",
   "metadata": {},
   "source": [
    "# Randomforest"
   ]
  },
  {
   "cell_type": "code",
   "execution_count": 172,
   "id": "955ccd5a",
   "metadata": {},
   "outputs": [],
   "source": [
    "rdc=RandomForestClassifier(n_estimators=100, random_state = 666)\n"
   ]
  },
  {
   "cell_type": "code",
   "execution_count": 173,
   "id": "a814b2e3",
   "metadata": {},
   "outputs": [
    {
     "data": {
      "text/plain": [
       "RandomForestClassifier(random_state=666)"
      ]
     },
     "execution_count": 173,
     "metadata": {},
     "output_type": "execute_result"
    }
   ],
   "source": [
    "rdc.fit(X_train,Y_train)\n"
   ]
  },
  {
   "cell_type": "code",
   "execution_count": 174,
   "id": "482d6711",
   "metadata": {},
   "outputs": [
    {
     "data": {
      "text/plain": [
       "'cross_val_score(rdc, X, Y,\\n                scoring=\"neg_mean_squared_error\", \\n                cv=3).mean()\\n                '"
      ]
     },
     "execution_count": 174,
     "metadata": {},
     "output_type": "execute_result"
    }
   ],
   "source": [
    "'''cross_val_score(rdc, X, Y,\n",
    "                scoring=\"neg_mean_squared_error\", \n",
    "                cv=3).mean()\n",
    "                '''"
   ]
  },
  {
   "cell_type": "code",
   "execution_count": 175,
   "id": "1e863677",
   "metadata": {},
   "outputs": [
    {
     "data": {
      "text/plain": [
       "0.3149708360337006"
      ]
     },
     "execution_count": 175,
     "metadata": {},
     "output_type": "execute_result"
    }
   ],
   "source": [
    "pred = rdc.predict(X_test)\n",
    "conf_mat = confusion_matrix(Y_test, pred)\n",
    "np.sum(pred != Y_test.to_numpy().flatten()) / len(Y_test)"
   ]
  },
  {
   "cell_type": "code",
   "execution_count": 176,
   "id": "768f4525-3741-48de-a132-2f6bdc32cb9e",
   "metadata": {},
   "outputs": [
    {
     "name": "stdout",
     "output_type": "stream",
     "text": [
      "0.6713615023474179\n",
      "0.6085106382978723\n",
      "0.6850291639662994\n"
     ]
    }
   ],
   "source": [
    "from sklearn.metrics import precision_score\n",
    "from sklearn.metrics import recall_score\n",
    "from sklearn.metrics import accuracy_score\n",
    "precision = precision_score(Y_test, pred, average='binary')\n",
    "recall = recall_score(Y_test, pred, average='binary')\n",
    "accuracy = accuracy_score(Y_test, pred)\n",
    "print(precision)\n",
    "print(recall)\n",
    "print(accuracy)"
   ]
  },
  {
   "cell_type": "code",
   "execution_count": 177,
   "id": "0c6de81c",
   "metadata": {},
   "outputs": [
    {
     "data": {
      "image/png": "[encoded data removed]",
      "text/plain": [
       "<Figure size 1080x576 with 1 Axes>"
      ]
     },
     "metadata": {},
     "output_type": "display_data"
    }
   ],
   "source": [
    "importance = rdc.feature_importances_\n",
    "sorted_indices = np.argsort(importance)[::-1]\n",
    "plt.title('Feature Importance')\n",
    "plt.bar(range(X.shape[1]), importance[sorted_indices], align='center')\n",
    "plt.xticks(range(X.shape[1]), X.columns[sorted_indices], rotation=90)\n",
    "plt.tight_layout()\n",
    "plt.show()"
   ]
  },
  {
   "cell_type": "markdown",
   "id": "77b06415",
   "metadata": {},
   "source": [
    "# Random forest with grid search"
   ]
  },
  {
   "cell_type": "code",
   "execution_count": 178,
   "id": "074db472",
   "metadata": {},
   "outputs": [
    {
     "name": "stdout",
     "output_type": "stream",
     "text": [
      "{'n_estimators': [200, 400, 600, 800, 1000, 1200, 1400, 1600, 1800, 2000], 'max_features': ['auto', 'sqrt'], 'max_depth': [10, 20, 30, 40, 50, 60, 70, 80, 90, 100, 110, None], 'min_samples_split': [2, 5, 10], 'min_samples_leaf': [1, 2, 4], 'bootstrap': [True, False]}\n"
     ]
    }
   ],
   "source": [
    "from sklearn.model_selection import RandomizedSearchCV\n",
    "# Number of trees in random forest\n",
    "n_estimators = [int(x) for x in np.linspace(start = 200, stop = 2000, num = 10)]\n",
    "# Number of features to consider at every split\n",
    "max_features = ['auto', 'sqrt']\n",
    "# Maximum number of levels in tree\n",
    "max_depth = [int(x) for x in np.linspace(10, 110, num = 11)]\n",
    "max_depth.append(None)\n",
    "# Minimum number of samples required to split a node\n",
    "min_samples_split = [2, 5, 10]\n",
    "# Minimum number of samples required at each leaf node\n",
    "min_samples_leaf = [1, 2, 4]\n",
    "# Method of selecting samples for training each tree\n",
    "bootstrap = [True, False]\n",
    "# Create the random grid\n",
    "random_grid = {'n_estimators': n_estimators,\n",
    "               'max_features': max_features,\n",
    "               'max_depth': max_depth,\n",
    "               'min_samples_split': min_samples_split,\n",
    "               'min_samples_leaf': min_samples_leaf,\n",
    "               'bootstrap': bootstrap}\n",
    "print(random_grid)"
   ]
  },
  {
   "cell_type": "code",
   "execution_count": 179,
   "id": "3ab662d3",
   "metadata": {},
   "outputs": [
    {
     "name": "stdout",
     "output_type": "stream",
     "text": [
      "Fitting 3 folds for each of 100 candidates, totalling 300 fits\n"
     ]
    },
    {
     "data": {
      "text/plain": [
       "RandomizedSearchCV(cv=3, estimator=RandomForestClassifier(), n_iter=100,\n",
       "                   n_jobs=-1,\n",
       "                   param_distributions={'bootstrap': [True, False],\n",
       "                                        'max_depth': [10, 20, 30, 40, 50, 60,\n",
       "                                                      70, 80, 90, 100, 110,\n",
       "                                                      None],\n",
       "                                        'max_features': ['auto', 'sqrt'],\n",
       "                                        'min_samples_leaf': [1, 2, 4],\n",
       "                                        'min_samples_split': [2, 5, 10],\n",
       "                                        'n_estimators': [200, 400, 600, 800,\n",
       "                                                         1000, 1200, 1400, 1600,\n",
       "                                                         1800, 2000]},\n",
       "                   random_state=42, verbose=2)"
      ]
     },
     "execution_count": 179,
     "metadata": {},
     "output_type": "execute_result"
    }
   ],
   "source": [
    "# Use the random grid to search for best hyperparameters\n",
    "# First create the base model to tune\n",
    "rf = RandomForestClassifier()\n",
    "# Random search of parameters, using 3 fold cross validation, \n",
    "# search across 100 different combinations, and use all available cores\n",
    "rf_random = RandomizedSearchCV(estimator = rf, param_distributions = random_grid, n_iter = 100, cv = 3, verbose=2, random_state=42, n_jobs = -1)\n",
    "# Fit the random search model\n",
    "rf_random.fit(X_val, Y_val)"
   ]
  },
  {
   "cell_type": "code",
   "execution_count": 180,
   "id": "00d2756f",
   "metadata": {},
   "outputs": [
    {
     "data": {
      "text/plain": [
       "{'n_estimators': 400,\n",
       " 'min_samples_split': 10,\n",
       " 'min_samples_leaf': 4,\n",
       " 'max_features': 'auto',\n",
       " 'max_depth': 70,\n",
       " 'bootstrap': True}"
      ]
     },
     "execution_count": 180,
     "metadata": {},
     "output_type": "execute_result"
    }
   ],
   "source": [
    "rf_random.best_params_"
   ]
  },
  {
   "cell_type": "code",
   "execution_count": 181,
   "id": "b05bea2a",
   "metadata": {},
   "outputs": [
    {
     "data": {
      "text/plain": [
       "RandomForestClassifier(max_depth=100, min_samples_leaf=4, min_samples_split=5,\n",
       "                       n_estimators=1000)"
      ]
     },
     "execution_count": 181,
     "metadata": {},
     "output_type": "execute_result"
    }
   ],
   "source": [
    "rfc = RandomForestClassifier(n_estimators = 1000,\n",
    " min_samples_split= 5,\n",
    " min_samples_leaf= 4,\n",
    " max_features= 'auto',\n",
    " max_depth= 100,\n",
    " bootstrap= True)\n",
    "rfc.fit(X_train,Y_train)"
   ]
  },
  {
   "cell_type": "code",
   "execution_count": 182,
   "id": "ebd51726",
   "metadata": {},
   "outputs": [
    {
     "data": {
      "text/plain": [
       "0.27090084251458196"
      ]
     },
     "execution_count": 182,
     "metadata": {},
     "output_type": "execute_result"
    }
   ],
   "source": [
    "pred_rfc = rfc.predict(X_test)\n",
    "np.sum(pred_rfc != Y_test.to_numpy().flatten()) / len(Y_test)"
   ]
  },
  {
   "cell_type": "code",
   "execution_count": 183,
   "id": "a1a95e27-b725-41c6-aefc-5033cee75af9",
   "metadata": {},
   "outputs": [
    {
     "data": {
      "image/png": "[encoded data removed]",
      "text/plain": [
       "<Figure size 1080x576 with 1 Axes>"
      ]
     },
     "metadata": {},
     "output_type": "display_data"
    }
   ],
   "source": [
    "importance = rdc.feature_importances_\n",
    "sorted_indices = np.argsort(importance)[::-1]\n",
    "plt.title('Feature Importance')\n",
    "plt.bar(range(X.shape[1]), importance[sorted_indices], align='center')\n",
    "plt.xticks(range(X.shape[1]), X.columns[sorted_indices], rotation=90)\n",
    "plt.tight_layout()\n",
    "plt.show()"
   ]
  },
  {
   "cell_type": "code",
   "execution_count": 184,
   "id": "5e86cdb6-0d97-401f-89dc-41c1032e8260",
   "metadata": {},
   "outputs": [
    {
     "data": {
      "text/plain": [
       "1    802\n",
       "0    741\n",
       "Name: race_African-American, dtype: int64"
      ]
     },
     "execution_count": 184,
     "metadata": {},
     "output_type": "execute_result"
    }
   ],
   "source": [
    "X_test['race_African-American'].value_counts()"
   ]
  },
  {
   "cell_type": "code",
   "execution_count": 185,
   "id": "fbf54ee3-469c-429e-b384-b443091ce202",
   "metadata": {},
   "outputs": [],
   "source": [
    "X_test1 = X_test.copy()\n",
    "X_test1['pred']=pred_rfc"
   ]
  },
  {
   "cell_type": "code",
   "execution_count": 186,
   "id": "08a7247a-e234-47a8-8fee-20f386297299",
   "metadata": {},
   "outputs": [
    {
     "data": {
      "text/plain": [
       "399"
      ]
     },
     "execution_count": 186,
     "metadata": {},
     "output_type": "execute_result"
    }
   ],
   "source": [
    "len(X_test1[(X_test1['pred']==1) & X_test1['race_African-American']==1])"
   ]
  },
  {
   "cell_type": "code",
   "execution_count": 187,
   "id": "8fc49332-304a-46f4-b9c3-b47960dfb83a",
   "metadata": {},
   "outputs": [
    {
     "data": {
      "text/plain": [
       "2"
      ]
     },
     "execution_count": 187,
     "metadata": {},
     "output_type": "execute_result"
    }
   ],
   "source": [
    "len(X_test1[(X_test1['pred']==1) & X_test1['race_Asian']==1])"
   ]
  },
  {
   "cell_type": "code",
   "execution_count": 188,
   "id": "2c7228d8-fec5-4fc1-9d56-6dd1fefb75c7",
   "metadata": {},
   "outputs": [
    {
     "data": {
      "text/plain": [
       "141"
      ]
     },
     "execution_count": 188,
     "metadata": {},
     "output_type": "execute_result"
    }
   ],
   "source": [
    "len(X_test1[(X_test1['pred']==1) & X_test1['race_Caucasian']==1])"
   ]
  },
  {
   "cell_type": "code",
   "execution_count": 189,
   "id": "d9420e90-d277-47be-a825-54765050ddbf",
   "metadata": {},
   "outputs": [
    {
     "data": {
      "text/plain": [
       "36"
      ]
     },
     "execution_count": 189,
     "metadata": {},
     "output_type": "execute_result"
    }
   ],
   "source": [
    "len(X_test1[(X_test1['pred']==1) & X_test1['race_Hispanic']==1])"
   ]
  },
  {
   "cell_type": "code",
   "execution_count": 190,
   "id": "4b86a5c1-dd96-4e30-967a-5a7b865d63ea",
   "metadata": {},
   "outputs": [
    {
     "data": {
      "text/plain": [
       "3"
      ]
     },
     "execution_count": 190,
     "metadata": {},
     "output_type": "execute_result"
    }
   ],
   "source": [
    "len(X_test1[(X_test1['pred']==1) & X_test1['race_Native American']==1])"
   ]
  },
  {
   "cell_type": "code",
   "execution_count": 191,
   "id": "94b250b2-30bb-42bc-a332-008fdbba29ed",
   "metadata": {},
   "outputs": [
    {
     "data": {
      "text/plain": [
       "16"
      ]
     },
     "execution_count": 191,
     "metadata": {},
     "output_type": "execute_result"
    }
   ],
   "source": [
    "len(X_test1[(X_test1['pred']==1) & X_test1['race_Other']==1])"
   ]
  },
  {
   "cell_type": "code",
   "execution_count": 192,
   "id": "32b1616c-c5ff-444a-9491-9b35e61d5c97",
   "metadata": {},
   "outputs": [
    {
     "data": {
      "text/plain": [
       "36"
      ]
     },
     "execution_count": 192,
     "metadata": {},
     "output_type": "execute_result"
    }
   ],
   "source": [
    "len(X_test1[(X_test1['pred']==1) & X_test1['race_Hispanic']==1])"
   ]
  },
  {
   "cell_type": "code",
   "execution_count": 193,
   "id": "26cca8fc-e8a2-43f0-8c6f-9219d8cdaf90",
   "metadata": {},
   "outputs": [
    {
     "data": {
      "text/plain": [
       "0    946\n",
       "1    597\n",
       "Name: pred, dtype: int64"
      ]
     },
     "execution_count": 193,
     "metadata": {},
     "output_type": "execute_result"
    }
   ],
   "source": [
    "X_test1.pred.value_counts()"
   ]
  },
  {
   "cell_type": "markdown",
   "id": "60d775db",
   "metadata": {},
   "source": [
    "# Logistic regression and SVC"
   ]
  },
  {
   "cell_type": "code",
   "execution_count": 194,
   "id": "6f7d8eb5",
   "metadata": {},
   "outputs": [],
   "source": [
    "from sklearn.svm import LinearSVC\n",
    "from sklearn import metrics\n",
    "\n",
    "error_SVC = np.zeros(100)\n",
    "\n",
    "for count,i in enumerate(np.arange(0.01,1.01,0.01)):\n",
    "    svc_model = LinearSVC(loss = 'hinge', C=i, penalty = 'l2', fit_intercept = True, max_iter = 100000,\n",
    "                         random_state = 42)\n",
    "    svc_model.fit(X_train, Y_train)\n",
    "    pred = svc_model.predict(X_val)\n",
    "    error_SVC[count] = np.sum(pred!= Y_val.to_numpy().flatten())/len(Y_val)"
   ]
  },
  {
   "cell_type": "code",
   "execution_count": 195,
   "id": "e93a10d9-4d2e-4f21-ba05-8b2b0fd94ec4",
   "metadata": {},
   "outputs": [
    {
     "data": {
      "text/plain": [
       "array([0.29423202, 0.29876863, 0.30330525, 0.30524951, 0.30719378,\n",
       "       0.30719378, 0.30719378, 0.30719378, 0.30719378, 0.30719378,\n",
       "       0.30719378, 0.30719378, 0.30719378, 0.30719378, 0.30719378,\n",
       "       0.30719378, 0.30719378, 0.30719378, 0.30719378, 0.30719378,\n",
       "       0.30719378, 0.30719378, 0.30719378, 0.30719378, 0.30719378,\n",
       "       0.30719378, 0.30719378, 0.30719378, 0.30719378, 0.30719378,\n",
       "       0.30719378, 0.30719378, 0.30719378, 0.30719378, 0.30719378,\n",
       "       0.30719378, 0.30719378, 0.30719378, 0.30719378, 0.30719378,\n",
       "       0.30719378, 0.30719378, 0.30719378, 0.30719378, 0.30719378,\n",
       "       0.30719378, 0.30719378, 0.30719378, 0.30719378, 0.30719378,\n",
       "       0.30719378, 0.30719378, 0.30719378, 0.30719378, 0.30719378,\n",
       "       0.30719378, 0.30719378, 0.30719378, 0.30719378, 0.30719378,\n",
       "       0.30719378, 0.30719378, 0.30719378, 0.30719378, 0.30719378,\n",
       "       0.30719378, 0.30719378, 0.30719378, 0.30719378, 0.30719378,\n",
       "       0.30719378, 0.30719378, 0.30719378, 0.30719378, 0.30719378,\n",
       "       0.30719378, 0.30719378, 0.30719378, 0.30719378, 0.30719378,\n",
       "       0.30719378, 0.30719378, 0.30719378, 0.30719378, 0.30719378,\n",
       "       0.30719378, 0.30719378, 0.30719378, 0.30719378, 0.30719378,\n",
       "       0.30719378, 0.30719378, 0.30719378, 0.30719378, 0.30719378,\n",
       "       0.30719378, 0.30719378, 0.30719378, 0.30719378, 0.30719378])"
      ]
     },
     "execution_count": 195,
     "metadata": {},
     "output_type": "execute_result"
    }
   ],
   "source": [
    "error_SVC"
   ]
  },
  {
   "cell_type": "code",
   "execution_count": 196,
   "id": "24739d9b",
   "metadata": {},
   "outputs": [
    {
     "data": {
      "text/plain": [
       "[<matplotlib.lines.Line2D at 0x244e49eaa60>]"
      ]
     },
     "execution_count": 196,
     "metadata": {},
     "output_type": "execute_result"
    },
    {
     "data": {
      "image/png": "[encoded data removed]",
      "text/plain": [
       "<Figure size 1080x576 with 1 Axes>"
      ]
     },
     "metadata": {},
     "output_type": "display_data"
    }
   ],
   "source": [
    "plt.plot(error_SVC)"
   ]
  },
  {
   "cell_type": "code",
   "execution_count": 197,
   "id": "f36e7c6d-f19e-42e4-8ecf-3c4735df0546",
   "metadata": {},
   "outputs": [
    {
     "data": {
      "text/plain": [
       "array([[0]], dtype=int64)"
      ]
     },
     "execution_count": 197,
     "metadata": {},
     "output_type": "execute_result"
    }
   ],
   "source": [
    "np.argwhere(error_SVC == min(error_SVC))"
   ]
  },
  {
   "cell_type": "code",
   "execution_count": 198,
   "id": "180ca6ef",
   "metadata": {},
   "outputs": [],
   "source": [
    "svc_model = LinearSVC(loss = 'hinge', C=0.01, penalty = 'l2', fit_intercept = True, max_iter = 100000,\n",
    "                         random_state = 42)"
   ]
  },
  {
   "cell_type": "code",
   "execution_count": 199,
   "id": "5ed948a6",
   "metadata": {},
   "outputs": [
    {
     "data": {
      "text/plain": [
       "0.29747245625405055"
      ]
     },
     "execution_count": 199,
     "metadata": {},
     "output_type": "execute_result"
    }
   ],
   "source": [
    "svc_model.fit(X_train,Y_train)\n",
    "pred_svc = svc_model.predict(X_test)\n",
    "np.sum(pred_svc != Y_test.to_numpy().flatten()) / len(Y_test)"
   ]
  },
  {
   "cell_type": "code",
   "execution_count": 200,
   "id": "ecbf5038-8145-41d7-a2a0-f510e403571c",
   "metadata": {},
   "outputs": [
    {
     "data": {
      "text/html": [
       "<div>\n",
       "<style scoped>\n",
       "    .dataframe tbody tr th:only-of-type {\n",
       "        vertical-align: middle;\n",
       "    }\n",
       "\n",
       "    .dataframe tbody tr th {\n",
       "        vertical-align: top;\n",
       "    }\n",
       "\n",
       "    .dataframe thead th {\n",
       "        text-align: right;\n",
       "    }\n",
       "</style>\n",
       "<table border=\"1\" class=\"dataframe\">\n",
       "  <thead>\n",
       "    <tr style=\"text-align: right;\">\n",
       "      <th></th>\n",
       "      <th>decile_score</th>\n",
       "      <th>priors_count</th>\n",
       "      <th>is_violent_recid</th>\n",
       "      <th>sex_Female</th>\n",
       "      <th>sex_Male</th>\n",
       "      <th>age_cat_25 - 45</th>\n",
       "      <th>age_cat_Greater than 45</th>\n",
       "      <th>age_cat_Less than 25</th>\n",
       "      <th>race_African-American</th>\n",
       "      <th>race_Asian</th>\n",
       "      <th>race_Caucasian</th>\n",
       "      <th>race_Hispanic</th>\n",
       "      <th>race_Native American</th>\n",
       "      <th>race_Other</th>\n",
       "      <th>c_charge_degree_F</th>\n",
       "      <th>c_charge_degree_M</th>\n",
       "      <th>score_text_High</th>\n",
       "      <th>score_text_Low</th>\n",
       "      <th>score_text_Medium</th>\n",
       "    </tr>\n",
       "  </thead>\n",
       "  <tbody>\n",
       "    <tr>\n",
       "      <th>5399</th>\n",
       "      <td>6</td>\n",
       "      <td>3</td>\n",
       "      <td>0</td>\n",
       "      <td>0</td>\n",
       "      <td>1</td>\n",
       "      <td>1</td>\n",
       "      <td>0</td>\n",
       "      <td>0</td>\n",
       "      <td>0</td>\n",
       "      <td>0</td>\n",
       "      <td>1</td>\n",
       "      <td>0</td>\n",
       "      <td>0</td>\n",
       "      <td>0</td>\n",
       "      <td>1</td>\n",
       "      <td>0</td>\n",
       "      <td>0</td>\n",
       "      <td>0</td>\n",
       "      <td>1</td>\n",
       "    </tr>\n",
       "    <tr>\n",
       "      <th>5400</th>\n",
       "      <td>3</td>\n",
       "      <td>2</td>\n",
       "      <td>0</td>\n",
       "      <td>0</td>\n",
       "      <td>1</td>\n",
       "      <td>0</td>\n",
       "      <td>1</td>\n",
       "      <td>0</td>\n",
       "      <td>0</td>\n",
       "      <td>0</td>\n",
       "      <td>1</td>\n",
       "      <td>0</td>\n",
       "      <td>0</td>\n",
       "      <td>0</td>\n",
       "      <td>0</td>\n",
       "      <td>1</td>\n",
       "      <td>0</td>\n",
       "      <td>1</td>\n",
       "      <td>0</td>\n",
       "    </tr>\n",
       "    <tr>\n",
       "      <th>5401</th>\n",
       "      <td>1</td>\n",
       "      <td>6</td>\n",
       "      <td>0</td>\n",
       "      <td>0</td>\n",
       "      <td>1</td>\n",
       "      <td>1</td>\n",
       "      <td>0</td>\n",
       "      <td>0</td>\n",
       "      <td>1</td>\n",
       "      <td>0</td>\n",
       "      <td>0</td>\n",
       "      <td>0</td>\n",
       "      <td>0</td>\n",
       "      <td>0</td>\n",
       "      <td>1</td>\n",
       "      <td>0</td>\n",
       "      <td>0</td>\n",
       "      <td>1</td>\n",
       "      <td>0</td>\n",
       "    </tr>\n",
       "    <tr>\n",
       "      <th>5402</th>\n",
       "      <td>6</td>\n",
       "      <td>6</td>\n",
       "      <td>1</td>\n",
       "      <td>1</td>\n",
       "      <td>0</td>\n",
       "      <td>1</td>\n",
       "      <td>0</td>\n",
       "      <td>0</td>\n",
       "      <td>1</td>\n",
       "      <td>0</td>\n",
       "      <td>0</td>\n",
       "      <td>0</td>\n",
       "      <td>0</td>\n",
       "      <td>0</td>\n",
       "      <td>1</td>\n",
       "      <td>0</td>\n",
       "      <td>0</td>\n",
       "      <td>0</td>\n",
       "      <td>1</td>\n",
       "    </tr>\n",
       "    <tr>\n",
       "      <th>5403</th>\n",
       "      <td>9</td>\n",
       "      <td>5</td>\n",
       "      <td>0</td>\n",
       "      <td>0</td>\n",
       "      <td>1</td>\n",
       "      <td>0</td>\n",
       "      <td>0</td>\n",
       "      <td>1</td>\n",
       "      <td>1</td>\n",
       "      <td>0</td>\n",
       "      <td>0</td>\n",
       "      <td>0</td>\n",
       "      <td>0</td>\n",
       "      <td>0</td>\n",
       "      <td>1</td>\n",
       "      <td>0</td>\n",
       "      <td>1</td>\n",
       "      <td>0</td>\n",
       "      <td>0</td>\n",
       "    </tr>\n",
       "    <tr>\n",
       "      <th>...</th>\n",
       "      <td>...</td>\n",
       "      <td>...</td>\n",
       "      <td>...</td>\n",
       "      <td>...</td>\n",
       "      <td>...</td>\n",
       "      <td>...</td>\n",
       "      <td>...</td>\n",
       "      <td>...</td>\n",
       "      <td>...</td>\n",
       "      <td>...</td>\n",
       "      <td>...</td>\n",
       "      <td>...</td>\n",
       "      <td>...</td>\n",
       "      <td>...</td>\n",
       "      <td>...</td>\n",
       "      <td>...</td>\n",
       "      <td>...</td>\n",
       "      <td>...</td>\n",
       "      <td>...</td>\n",
       "    </tr>\n",
       "    <tr>\n",
       "      <th>7209</th>\n",
       "      <td>7</td>\n",
       "      <td>0</td>\n",
       "      <td>0</td>\n",
       "      <td>0</td>\n",
       "      <td>1</td>\n",
       "      <td>0</td>\n",
       "      <td>0</td>\n",
       "      <td>1</td>\n",
       "      <td>1</td>\n",
       "      <td>0</td>\n",
       "      <td>0</td>\n",
       "      <td>0</td>\n",
       "      <td>0</td>\n",
       "      <td>0</td>\n",
       "      <td>1</td>\n",
       "      <td>0</td>\n",
       "      <td>0</td>\n",
       "      <td>0</td>\n",
       "      <td>1</td>\n",
       "    </tr>\n",
       "    <tr>\n",
       "      <th>7210</th>\n",
       "      <td>3</td>\n",
       "      <td>0</td>\n",
       "      <td>0</td>\n",
       "      <td>0</td>\n",
       "      <td>1</td>\n",
       "      <td>0</td>\n",
       "      <td>0</td>\n",
       "      <td>1</td>\n",
       "      <td>1</td>\n",
       "      <td>0</td>\n",
       "      <td>0</td>\n",
       "      <td>0</td>\n",
       "      <td>0</td>\n",
       "      <td>0</td>\n",
       "      <td>1</td>\n",
       "      <td>0</td>\n",
       "      <td>0</td>\n",
       "      <td>1</td>\n",
       "      <td>0</td>\n",
       "    </tr>\n",
       "    <tr>\n",
       "      <th>7211</th>\n",
       "      <td>1</td>\n",
       "      <td>0</td>\n",
       "      <td>0</td>\n",
       "      <td>0</td>\n",
       "      <td>1</td>\n",
       "      <td>0</td>\n",
       "      <td>1</td>\n",
       "      <td>0</td>\n",
       "      <td>0</td>\n",
       "      <td>0</td>\n",
       "      <td>0</td>\n",
       "      <td>0</td>\n",
       "      <td>0</td>\n",
       "      <td>1</td>\n",
       "      <td>1</td>\n",
       "      <td>0</td>\n",
       "      <td>0</td>\n",
       "      <td>1</td>\n",
       "      <td>0</td>\n",
       "    </tr>\n",
       "    <tr>\n",
       "      <th>7212</th>\n",
       "      <td>2</td>\n",
       "      <td>3</td>\n",
       "      <td>0</td>\n",
       "      <td>1</td>\n",
       "      <td>0</td>\n",
       "      <td>1</td>\n",
       "      <td>0</td>\n",
       "      <td>0</td>\n",
       "      <td>1</td>\n",
       "      <td>0</td>\n",
       "      <td>0</td>\n",
       "      <td>0</td>\n",
       "      <td>0</td>\n",
       "      <td>0</td>\n",
       "      <td>0</td>\n",
       "      <td>1</td>\n",
       "      <td>0</td>\n",
       "      <td>1</td>\n",
       "      <td>0</td>\n",
       "    </tr>\n",
       "    <tr>\n",
       "      <th>7213</th>\n",
       "      <td>4</td>\n",
       "      <td>2</td>\n",
       "      <td>0</td>\n",
       "      <td>1</td>\n",
       "      <td>0</td>\n",
       "      <td>0</td>\n",
       "      <td>0</td>\n",
       "      <td>1</td>\n",
       "      <td>0</td>\n",
       "      <td>0</td>\n",
       "      <td>0</td>\n",
       "      <td>1</td>\n",
       "      <td>0</td>\n",
       "      <td>0</td>\n",
       "      <td>1</td>\n",
       "      <td>0</td>\n",
       "      <td>0</td>\n",
       "      <td>1</td>\n",
       "      <td>0</td>\n",
       "    </tr>\n",
       "  </tbody>\n",
       "</table>\n",
       "<p>1543 rows × 19 columns</p>\n",
       "</div>"
      ],
      "text/plain": [
       "      decile_score  priors_count  is_violent_recid  sex_Female  sex_Male  \\\n",
       "5399             6             3                 0           0         1   \n",
       "5400             3             2                 0           0         1   \n",
       "5401             1             6                 0           0         1   \n",
       "5402             6             6                 1           1         0   \n",
       "5403             9             5                 0           0         1   \n",
       "...            ...           ...               ...         ...       ...   \n",
       "7209             7             0                 0           0         1   \n",
       "7210             3             0                 0           0         1   \n",
       "7211             1             0                 0           0         1   \n",
       "7212             2             3                 0           1         0   \n",
       "7213             4             2                 0           1         0   \n",
       "\n",
       "      age_cat_25 - 45  age_cat_Greater than 45  age_cat_Less than 25  \\\n",
       "5399                1                        0                     0   \n",
       "5400                0                        1                     0   \n",
       "5401                1                        0                     0   \n",
       "5402                1                        0                     0   \n",
       "5403                0                        0                     1   \n",
       "...               ...                      ...                   ...   \n",
       "7209                0                        0                     1   \n",
       "7210                0                        0                     1   \n",
       "7211                0                        1                     0   \n",
       "7212                1                        0                     0   \n",
       "7213                0                        0                     1   \n",
       "\n",
       "      race_African-American  race_Asian  race_Caucasian  race_Hispanic  \\\n",
       "5399                      0           0               1              0   \n",
       "5400                      0           0               1              0   \n",
       "5401                      1           0               0              0   \n",
       "5402                      1           0               0              0   \n",
       "5403                      1           0               0              0   \n",
       "...                     ...         ...             ...            ...   \n",
       "7209                      1           0               0              0   \n",
       "7210                      1           0               0              0   \n",
       "7211                      0           0               0              0   \n",
       "7212                      1           0               0              0   \n",
       "7213                      0           0               0              1   \n",
       "\n",
       "      race_Native American  race_Other  c_charge_degree_F  c_charge_degree_M  \\\n",
       "5399                     0           0                  1                  0   \n",
       "5400                     0           0                  0                  1   \n",
       "5401                     0           0                  1                  0   \n",
       "5402                     0           0                  1                  0   \n",
       "5403                     0           0                  1                  0   \n",
       "...                    ...         ...                ...                ...   \n",
       "7209                     0           0                  1                  0   \n",
       "7210                     0           0                  1                  0   \n",
       "7211                     0           1                  1                  0   \n",
       "7212                     0           0                  0                  1   \n",
       "7213                     0           0                  1                  0   \n",
       "\n",
       "      score_text_High  score_text_Low  score_text_Medium  \n",
       "5399                0               0                  1  \n",
       "5400                0               1                  0  \n",
       "5401                0               1                  0  \n",
       "5402                0               0                  1  \n",
       "5403                1               0                  0  \n",
       "...               ...             ...                ...  \n",
       "7209                0               0                  1  \n",
       "7210                0               1                  0  \n",
       "7211                0               1                  0  \n",
       "7212                0               1                  0  \n",
       "7213                0               1                  0  \n",
       "\n",
       "[1543 rows x 19 columns]"
      ]
     },
     "execution_count": 200,
     "metadata": {},
     "output_type": "execute_result"
    }
   ],
   "source": [
    "X_test"
   ]
  },
  {
   "cell_type": "code",
   "execution_count": 201,
   "id": "d85ec2a1-f388-4b6f-a565-8fc1f7201cf1",
   "metadata": {},
   "outputs": [
    {
     "data": {
      "text/plain": [
       "array([[ 0.06384658,  0.06371766,  1.03398931, -0.18245875, -0.04014783,\n",
       "        -0.12830722, -0.14279692,  0.04849756, -0.05077899, -0.01      ,\n",
       "        -0.06552785, -0.05      , -0.03      , -0.01629975, -0.10399383,\n",
       "        -0.11861276,  0.41227436, -0.61620858, -0.01867236]])"
      ]
     },
     "execution_count": 201,
     "metadata": {},
     "output_type": "execute_result"
    }
   ],
   "source": [
    "svc_model.coef_"
   ]
  },
  {
   "cell_type": "code",
   "execution_count": 202,
   "id": "16b6b5b3",
   "metadata": {},
   "outputs": [],
   "source": [
    "from sklearn.linear_model import LogisticRegression\n",
    "\n",
    "error_LR = np.zeros(100)\n",
    "\n",
    "for count,i in enumerate(np.arange(0.01,1.01,0.01)):\n",
    "    LR_model = LogisticRegression( C=i, penalty = 'l2', fit_intercept = True, max_iter = 100000,\n",
    "                         random_state = 42)\n",
    "    LR_model.fit(X_train, Y_train)\n",
    "    pred = LR_model.predict(X_val)\n",
    "    error_LR[count] = np.sum(pred!= Y_val.to_numpy().flatten())/len(Y_val)"
   ]
  },
  {
   "cell_type": "code",
   "execution_count": 203,
   "id": "2c6a2171-2a2f-4f83-9c00-3effbb0a064d",
   "metadata": {},
   "outputs": [
    {
     "data": {
      "text/plain": [
       "0.2832145171743357"
      ]
     },
     "execution_count": 203,
     "metadata": {},
     "output_type": "execute_result"
    }
   ],
   "source": [
    "error_LR[4]"
   ]
  },
  {
   "cell_type": "code",
   "execution_count": 204,
   "id": "9d22cf3a-6c3b-469f-91d6-e8593f8a62c6",
   "metadata": {},
   "outputs": [
    {
     "data": {
      "text/plain": [
       "[<matplotlib.lines.Line2D at 0x244e4db29d0>]"
      ]
     },
     "execution_count": 204,
     "metadata": {},
     "output_type": "execute_result"
    },
    {
     "data": {
      "image/png": "[encoded data removed]",
      "text/plain": [
       "<Figure size 1080x576 with 1 Axes>"
      ]
     },
     "metadata": {},
     "output_type": "display_data"
    }
   ],
   "source": [
    "plt.plot(error_LR)"
   ]
  },
  {
   "cell_type": "code",
   "execution_count": 205,
   "id": "c26c59fa",
   "metadata": {},
   "outputs": [
    {
     "data": {
      "text/plain": [
       "array([[ 4],\n",
       "       [ 5],\n",
       "       [ 6],\n",
       "       [12],\n",
       "       [13],\n",
       "       [14],\n",
       "       [15],\n",
       "       [16],\n",
       "       [34],\n",
       "       [35],\n",
       "       [36],\n",
       "       [37],\n",
       "       [38],\n",
       "       [39],\n",
       "       [40],\n",
       "       [41],\n",
       "       [42],\n",
       "       [43],\n",
       "       [44],\n",
       "       [45],\n",
       "       [46],\n",
       "       [47],\n",
       "       [48],\n",
       "       [49],\n",
       "       [50],\n",
       "       [51],\n",
       "       [52],\n",
       "       [53],\n",
       "       [54],\n",
       "       [55],\n",
       "       [56],\n",
       "       [57],\n",
       "       [58],\n",
       "       [59],\n",
       "       [60],\n",
       "       [61],\n",
       "       [62],\n",
       "       [63],\n",
       "       [64],\n",
       "       [65],\n",
       "       [66],\n",
       "       [67],\n",
       "       [68],\n",
       "       [69],\n",
       "       [70],\n",
       "       [71],\n",
       "       [72],\n",
       "       [73],\n",
       "       [74],\n",
       "       [75],\n",
       "       [76],\n",
       "       [77],\n",
       "       [78],\n",
       "       [79],\n",
       "       [80],\n",
       "       [81],\n",
       "       [82],\n",
       "       [83],\n",
       "       [84],\n",
       "       [85],\n",
       "       [86],\n",
       "       [87],\n",
       "       [88],\n",
       "       [89],\n",
       "       [90],\n",
       "       [91],\n",
       "       [92],\n",
       "       [93],\n",
       "       [94],\n",
       "       [96],\n",
       "       [97],\n",
       "       [98],\n",
       "       [99]], dtype=int64)"
      ]
     },
     "execution_count": 205,
     "metadata": {},
     "output_type": "execute_result"
    }
   ],
   "source": [
    "np.argwhere(error_LR == min(error_LR))"
   ]
  },
  {
   "cell_type": "code",
   "execution_count": 206,
   "id": "c5fc97e8",
   "metadata": {},
   "outputs": [],
   "source": [
    "LR_model = LogisticRegression( C=0.04, penalty = 'l2', fit_intercept = True, max_iter = 100000,\n",
    "                         random_state = 42)"
   ]
  },
  {
   "cell_type": "code",
   "execution_count": 207,
   "id": "66ecb88c",
   "metadata": {},
   "outputs": [
    {
     "data": {
      "text/plain": [
       "0.28062216461438755"
      ]
     },
     "execution_count": 207,
     "metadata": {},
     "output_type": "execute_result"
    }
   ],
   "source": [
    "LR_model.fit(X_train,Y_train)\n",
    "pred_lr = LR_model.predict(X_test)\n",
    "np.sum(pred_lr != Y_test.to_numpy().flatten()) / len(Y_test)"
   ]
  },
  {
   "cell_type": "code",
   "execution_count": 208,
   "id": "67e8872f-9cc9-4228-8d74-8236e118ef1a",
   "metadata": {},
   "outputs": [
    {
     "data": {
      "text/plain": [
       "array([[ 0.14910977,  0.0994518 ,  1.65127375, -0.18504975,  0.18525785,\n",
       "        -0.04686964, -0.27543099,  0.32250874,  0.05229532,  0.01070303,\n",
       "         0.06515896, -0.0479318 , -0.07584421, -0.00417319,  0.07999373,\n",
       "        -0.07978562,  0.02761876, -0.06310255,  0.03569189]])"
      ]
     },
     "execution_count": 208,
     "metadata": {},
     "output_type": "execute_result"
    }
   ],
   "source": [
    "LR_model.coef_"
   ]
  },
  {
   "cell_type": "markdown",
   "id": "8afceac7",
   "metadata": {},
   "source": [
    "# Model evaluation "
   ]
  },
  {
   "cell_type": "code",
   "execution_count": 209,
   "id": "482930eb-36a3-4588-93a5-af2aa11c5da3",
   "metadata": {},
   "outputs": [
    {
     "name": "stdout",
     "output_type": "stream",
     "text": [
      "0.7403685092127303\n",
      "0.6269503546099291\n",
      "0.6789554531490015\n",
      "0.729099157485418\n"
     ]
    }
   ],
   "source": [
    "from sklearn.metrics import precision_score\n",
    "from sklearn.metrics import recall_score\n",
    "from sklearn.metrics import accuracy_score\n",
    "from sklearn.metrics import f1_score\n",
    "#random forest\n",
    "precision = precision_score(Y_test, pred_rfc, average='binary')\n",
    "recall = recall_score(Y_test, pred_rfc, average='binary')\n",
    "accuracy = accuracy_score(Y_test, pred_rfc)\n",
    "f1 = f1_score(Y_test, pred_rfc, average='binary')\n",
    "print(precision)\n",
    "print(recall)\n",
    "print(f1)\n",
    "print(accuracy)"
   ]
  },
  {
   "cell_type": "code",
   "execution_count": 210,
   "id": "bd0a7a4f-b3ee-48cc-b1e2-0d0552ebfa5b",
   "metadata": {},
   "outputs": [
    {
     "name": "stdout",
     "output_type": "stream",
     "text": [
      "[[683 155]\n",
      " [263 442]]\n"
     ]
    }
   ],
   "source": [
    "from sklearn.metrics import confusion_matrix\n",
    "\n",
    "conf_mat = confusion_matrix(Y_test, pred_rfc)\n",
    "print(conf_mat)"
   ]
  },
  {
   "cell_type": "code",
   "execution_count": 211,
   "id": "6f931fb6-60db-4c3e-8f9b-504f07e3c32f",
   "metadata": {},
   "outputs": [
    {
     "name": "stdout",
     "output_type": "stream",
     "text": [
      "0.7173144876325088\n",
      "0.5758865248226951\n",
      "0.6388670338316287\n",
      "0.7025275437459495\n"
     ]
    }
   ],
   "source": [
    "#linearSVC\n",
    "precision = precision_score(Y_test, pred_svc, average='binary')\n",
    "recall = recall_score(Y_test, pred_svc, average='binary')\n",
    "accuracy = accuracy_score(Y_test, pred_svc)\n",
    "f1 = f1_score(Y_test, pred_svc, average='binary')\n",
    "print(precision)\n",
    "print(recall)\n",
    "print(f1)\n",
    "print(accuracy)"
   ]
  },
  {
   "cell_type": "code",
   "execution_count": 212,
   "id": "4a5484e4-e661-4293-8a5b-84e9b80173c8",
   "metadata": {},
   "outputs": [
    {
     "name": "stdout",
     "output_type": "stream",
     "text": [
      "0.7361111111111112\n",
      "0.601418439716312\n",
      "0.6619828259172522\n",
      "0.7193778353856124\n"
     ]
    }
   ],
   "source": [
    "#logistic regression\n",
    "precision = precision_score(Y_test, pred_lr, average='binary')\n",
    "recall = recall_score(Y_test, pred_lr, average='binary')\n",
    "accuracy = accuracy_score(Y_test, pred_lr)\n",
    "f1 = f1_score(Y_test, pred_lr, average='binary')\n",
    "print(precision)\n",
    "print(recall)\n",
    "print(f1)\n",
    "print(accuracy)"
   ]
  }
 ],
 "metadata": {
  "kernelspec": {
   "display_name": "Python 3",
   "language": "python",
   "name": "python3"
  },
  "language_info": {
   "codemirror_mode": {
    "name": "ipython",
    "version": 3
   },
   "file_extension": ".py",
   "mimetype": "text/x-python",
   "name": "python",
   "nbconvert_exporter": "python",
   "pygments_lexer": "ipython3",
   "version": "3.8.8"
  }
 },
 "nbformat": 4,
 "nbformat_minor": 5
}
